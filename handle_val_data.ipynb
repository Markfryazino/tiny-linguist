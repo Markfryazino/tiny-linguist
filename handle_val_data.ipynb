{
 "cells": [
  {
   "cell_type": "code",
   "execution_count": 1,
   "metadata": {},
   "outputs": [],
   "source": [
    "import pandas as pd\n",
    "import numpy as np\n",
    "\n",
    "import matplotlib.pyplot as plt\n",
    "import seaborn as sns\n",
    "\n",
    "from datasets import Dataset, DatasetDict\n",
    "\n",
    "sns.set_theme(context=\"paper\", style=\"whitegrid\", palette=\"Dark2\")"
   ]
  },
  {
   "cell_type": "markdown",
   "metadata": {},
   "source": [
    "## Sampling the data"
   ]
  },
  {
   "cell_type": "code",
   "execution_count": 2,
   "metadata": {},
   "outputs": [
    {
     "data": {
      "text/html": [
       "<div>\n",
       "<style scoped>\n",
       "    .dataframe tbody tr th:only-of-type {\n",
       "        vertical-align: middle;\n",
       "    }\n",
       "\n",
       "    .dataframe tbody tr th {\n",
       "        vertical-align: top;\n",
       "    }\n",
       "\n",
       "    .dataframe thead th {\n",
       "        text-align: right;\n",
       "    }\n",
       "</style>\n",
       "<table border=\"1\" class=\"dataframe\">\n",
       "  <thead>\n",
       "    <tr style=\"text-align: right;\">\n",
       "      <th></th>\n",
       "      <th>text</th>\n",
       "      <th>top_constituents</th>\n",
       "      <th>tree_depth</th>\n",
       "      <th>length</th>\n",
       "    </tr>\n",
       "  </thead>\n",
       "  <tbody>\n",
       "    <tr>\n",
       "      <th>0</th>\n",
       "      <td>u don't have to be scared of the loud dog, I'l...</td>\n",
       "      <td>S S</td>\n",
       "      <td>6</td>\n",
       "      <td>13</td>\n",
       "    </tr>\n",
       "    <tr>\n",
       "      <th>1</th>\n",
       "      <td>The mole felt so safe with the little girl.</td>\n",
       "      <td>NP VP</td>\n",
       "      <td>3</td>\n",
       "      <td>9</td>\n",
       "    </tr>\n",
       "    <tr>\n",
       "      <th>2</th>\n",
       "      <td>She was very kind and the mole soon came to tr...</td>\n",
       "      <td>S CC S</td>\n",
       "      <td>3</td>\n",
       "      <td>12</td>\n",
       "    </tr>\n",
       "    <tr>\n",
       "      <th>3</th>\n",
       "      <td>He leaned against her and she kept him safe.</td>\n",
       "      <td>S CC S</td>\n",
       "      <td>2</td>\n",
       "      <td>9</td>\n",
       "    </tr>\n",
       "    <tr>\n",
       "      <th>4</th>\n",
       "      <td>The mole had found his best friend.</td>\n",
       "      <td>NP VP</td>\n",
       "      <td>2</td>\n",
       "      <td>7</td>\n",
       "    </tr>\n",
       "  </tbody>\n",
       "</table>\n",
       "</div>"
      ],
      "text/plain": [
       "                                                text top_constituents  \\\n",
       "0  u don't have to be scared of the loud dog, I'l...              S S   \n",
       "1        The mole felt so safe with the little girl.            NP VP   \n",
       "2  She was very kind and the mole soon came to tr...           S CC S   \n",
       "3       He leaned against her and she kept him safe.           S CC S   \n",
       "4                The mole had found his best friend.            NP VP   \n",
       "\n",
       "   tree_depth  length  \n",
       "0           6      13  \n",
       "1           3       9  \n",
       "2           3      12  \n",
       "3           2       9  \n",
       "4           2       7  "
      ]
     },
     "execution_count": 2,
     "metadata": {},
     "output_type": "execute_result"
    }
   ],
   "source": [
    "data = pd.read_csv(\"/proj/mechanistic.shadow/mrofin/tinylinguist/data/valid_sentences.csv\", sep=\"\\t\")\n",
    "data[\"top_constituents\"] = data[\"top_constituents\"].apply(lambda s: s.replace(\"'\", \"\").replace(\"`\", \"\").strip())\n",
    "\n",
    "data.head(5)"
   ]
  },
  {
   "cell_type": "code",
   "execution_count": 3,
   "metadata": {},
   "outputs": [
    {
     "data": {
      "text/plain": [
       "top_constituents\n",
       "NP VP         321176\n",
       "S CC S         32892\n",
       "ADVP NP VP     28623\n",
       "NP NP VP       26274\n",
       "PP NP VP       11026\n",
       "SBAR NP VP      9431\n",
       "CC NP VP        9122\n",
       "VP              5882\n",
       "S  NP VP        4176\n",
       "NP ADVP VP      3710\n",
       "Name: count, dtype: int64"
      ]
     },
     "execution_count": 3,
     "metadata": {},
     "output_type": "execute_result"
    }
   ],
   "source": [
    "data[\"top_constituents\"].value_counts()[:10]"
   ]
  },
  {
   "cell_type": "code",
   "execution_count": 4,
   "metadata": {},
   "outputs": [
    {
     "data": {
      "text/html": [
       "<div>\n",
       "<style scoped>\n",
       "    .dataframe tbody tr th:only-of-type {\n",
       "        vertical-align: middle;\n",
       "    }\n",
       "\n",
       "    .dataframe tbody tr th {\n",
       "        vertical-align: top;\n",
       "    }\n",
       "\n",
       "    .dataframe thead th {\n",
       "        text-align: right;\n",
       "    }\n",
       "</style>\n",
       "<table border=\"1\" class=\"dataframe\">\n",
       "  <thead>\n",
       "    <tr style=\"text-align: right;\">\n",
       "      <th></th>\n",
       "      <th>text</th>\n",
       "      <th>top_constituents</th>\n",
       "      <th>tree_depth</th>\n",
       "      <th>length</th>\n",
       "      <th>tc_label</th>\n",
       "      <th>tc_prob</th>\n",
       "    </tr>\n",
       "  </thead>\n",
       "  <tbody>\n",
       "    <tr>\n",
       "      <th>0</th>\n",
       "      <td>u don't have to be scared of the loud dog, I'l...</td>\n",
       "      <td>S S</td>\n",
       "      <td>6</td>\n",
       "      <td>13</td>\n",
       "      <td>other</td>\n",
       "      <td>0.000022</td>\n",
       "    </tr>\n",
       "    <tr>\n",
       "      <th>1</th>\n",
       "      <td>The mole felt so safe with the little girl.</td>\n",
       "      <td>NP VP</td>\n",
       "      <td>3</td>\n",
       "      <td>9</td>\n",
       "      <td>NP VP</td>\n",
       "      <td>0.000003</td>\n",
       "    </tr>\n",
       "    <tr>\n",
       "      <th>2</th>\n",
       "      <td>She was very kind and the mole soon came to tr...</td>\n",
       "      <td>S CC S</td>\n",
       "      <td>3</td>\n",
       "      <td>12</td>\n",
       "      <td>S CC S</td>\n",
       "      <td>0.000030</td>\n",
       "    </tr>\n",
       "    <tr>\n",
       "      <th>3</th>\n",
       "      <td>He leaned against her and she kept him safe.</td>\n",
       "      <td>S CC S</td>\n",
       "      <td>2</td>\n",
       "      <td>9</td>\n",
       "      <td>S CC S</td>\n",
       "      <td>0.000030</td>\n",
       "    </tr>\n",
       "    <tr>\n",
       "      <th>4</th>\n",
       "      <td>The mole had found his best friend.</td>\n",
       "      <td>NP VP</td>\n",
       "      <td>2</td>\n",
       "      <td>7</td>\n",
       "      <td>NP VP</td>\n",
       "      <td>0.000003</td>\n",
       "    </tr>\n",
       "  </tbody>\n",
       "</table>\n",
       "</div>"
      ],
      "text/plain": [
       "                                                text top_constituents  \\\n",
       "0  u don't have to be scared of the loud dog, I'l...              S S   \n",
       "1        The mole felt so safe with the little girl.            NP VP   \n",
       "2  She was very kind and the mole soon came to tr...           S CC S   \n",
       "3       He leaned against her and she kept him safe.           S CC S   \n",
       "4                The mole had found his best friend.            NP VP   \n",
       "\n",
       "   tree_depth  length tc_label   tc_prob  \n",
       "0           6      13    other  0.000022  \n",
       "1           3       9    NP VP  0.000003  \n",
       "2           3      12   S CC S  0.000030  \n",
       "3           2       9   S CC S  0.000030  \n",
       "4           2       7    NP VP  0.000003  "
      ]
     },
     "execution_count": 4,
     "metadata": {},
     "output_type": "execute_result"
    }
   ],
   "source": [
    "good_tc = data[\"top_constituents\"].value_counts().index[:9].values\n",
    "is_in_good_tc = data[\"top_constituents\"].isin(good_tc)\n",
    "data[\"tc_label\"] = np.where(is_in_good_tc, data[\"top_constituents\"], \"other\")\n",
    "data[\"tc_prob\"] = 1 / data[\"tc_label\"].map(data[\"tc_label\"].value_counts())\n",
    "\n",
    "data.head()"
   ]
  },
  {
   "cell_type": "code",
   "execution_count": 5,
   "metadata": {},
   "outputs": [],
   "source": [
    "tc_samples = data.sample(15000, weights=\"tc_prob\", random_state=42, replace=False, ignore_index=True)\n",
    "dl_samples = data.sample(15000, random_state=42, replace=False, ignore_index=True)"
   ]
  },
  {
   "cell_type": "code",
   "execution_count": 6,
   "metadata": {},
   "outputs": [],
   "source": [
    "from sklearn.model_selection import train_test_split\n",
    "\n",
    "final_data = {}\n",
    "\n",
    "final_data[\"tc_train\"], final_data[\"tc_test\"] = train_test_split(\n",
    "    tc_samples, test_size=5000, random_state=42, stratify=tc_samples[\"tc_label\"]\n",
    ")\n",
    "final_data[\"dl_train\"], final_data[\"dl_test\"] = train_test_split(dl_samples, test_size=5000, random_state=42)"
   ]
  },
  {
   "cell_type": "markdown",
   "metadata": {},
   "source": [
    "## Saving the dataset"
   ]
  },
  {
   "cell_type": "code",
   "execution_count": 7,
   "metadata": {},
   "outputs": [],
   "source": [
    "dataset = DatasetDict({\n",
    "    key: Dataset.from_pandas(split.drop(columns=[\"top_constituents\", \"tc_prob\"]), preserve_index=False)\n",
    "    for key, split in final_data.items()\n",
    "})"
   ]
  },
  {
   "cell_type": "code",
   "execution_count": 8,
   "metadata": {},
   "outputs": [
    {
     "data": {
      "application/vnd.jupyter.widget-view+json": {
       "model_id": "7836b91aa5034681953e48c0b8547c7c",
       "version_major": 2,
       "version_minor": 0
      },
      "text/plain": [
       "Saving the dataset (0/1 shards):   0%|          | 0/10000 [00:00<?, ? examples/s]"
      ]
     },
     "metadata": {},
     "output_type": "display_data"
    },
    {
     "data": {
      "application/vnd.jupyter.widget-view+json": {
       "model_id": "9261cc698dab4863a459e7e11f299bbb",
       "version_major": 2,
       "version_minor": 0
      },
      "text/plain": [
       "Saving the dataset (0/1 shards):   0%|          | 0/5000 [00:00<?, ? examples/s]"
      ]
     },
     "metadata": {},
     "output_type": "display_data"
    },
    {
     "data": {
      "application/vnd.jupyter.widget-view+json": {
       "model_id": "15aee0ab8ded490fb3e9f96f0afd2e45",
       "version_major": 2,
       "version_minor": 0
      },
      "text/plain": [
       "Saving the dataset (0/1 shards):   0%|          | 0/10000 [00:00<?, ? examples/s]"
      ]
     },
     "metadata": {},
     "output_type": "display_data"
    },
    {
     "data": {
      "application/vnd.jupyter.widget-view+json": {
       "model_id": "68fad7746f6045faa4fc729c96a9ada2",
       "version_major": 2,
       "version_minor": 0
      },
      "text/plain": [
       "Saving the dataset (0/1 shards):   0%|          | 0/5000 [00:00<?, ? examples/s]"
      ]
     },
     "metadata": {},
     "output_type": "display_data"
    }
   ],
   "source": [
    "dataset.save_to_disk(\"/proj/mechanistic.shadow/mrofin/tinylinguist/data/val_linguistic_features_2\")"
   ]
  },
  {
   "cell_type": "markdown",
   "metadata": {},
   "source": [
    "## Visualizations"
   ]
  },
  {
   "cell_type": "code",
   "execution_count": 9,
   "metadata": {},
   "outputs": [
    {
     "data": {
      "image/png": "[encoded data removed]",
      "text/plain": [
       "<Figure size 350x200 with 1 Axes>"
      ]
     },
     "metadata": {},
     "output_type": "display_data"
    },
    {
     "data": {
      "image/png": "[encoded data removed]",
      "text/plain": [
       "<Figure size 350x200 with 1 Axes>"
      ]
     },
     "metadata": {},
     "output_type": "display_data"
    }
   ],
   "source": [
    "plt.figure(figsize=(3.5, 2))\n",
    "tc = data[\"tc_label\"].value_counts()\n",
    "sns.barplot(x=tc.index, y=tc.values)\n",
    "plt.xticks(rotation=90)\n",
    "plt.xlabel(\"Top Constituents\")\n",
    "plt.ylabel(\"Count\")\n",
    "plt.savefig(\"img/top_constituents_before_sampling.pdf\", bbox_inches=\"tight\")\n",
    "plt.show()\n",
    "\n",
    "plt.figure(figsize=(3.5, 2))\n",
    "tc = tc_samples[\"tc_label\"].value_counts()\n",
    "sns.barplot(x=tc.index, y=tc.values)\n",
    "plt.xticks(rotation=90)\n",
    "plt.xlabel(\"Top Constituents\")\n",
    "plt.ylabel(\"Count\")\n",
    "plt.savefig(\"img/top_constituents_after_sampling.pdf\", bbox_inches=\"tight\")\n",
    "plt.show()"
   ]
  },
  {
   "cell_type": "code",
   "execution_count": 10,
   "metadata": {},
   "outputs": [
    {
     "data": {
      "image/png": "[encoded data removed]",
      "text/plain": [
       "<Figure size 350x200 with 1 Axes>"
      ]
     },
     "metadata": {},
     "output_type": "display_data"
    },
    {
     "data": {
      "image/png": "[encoded data removed]",
      "text/plain": [
       "<Figure size 350x200 with 1 Axes>"
      ]
     },
     "metadata": {},
     "output_type": "display_data"
    }
   ],
   "source": [
    "plt.figure(figsize=(3.5, 2))\n",
    "sns.histplot(x=data[\"tree_depth\"], bins=16)\n",
    "\n",
    "plt.xlabel(\"Tree Depth\")\n",
    "plt.ylabel(\"Count\")\n",
    "\n",
    "plt.savefig(\"img/tree_depth.pdf\", bbox_inches=\"tight\")\n",
    "plt.show()\n",
    "\n",
    "plt.figure(figsize=(3.5, 2))\n",
    "sns.histplot(x=data[\"length\"], bins=42)\n",
    "\n",
    "plt.xlabel(\"Sentence Length\")\n",
    "plt.ylabel(\"Count\")\n",
    "\n",
    "plt.savefig(\"img/sentence_length.pdf\", bbox_inches=\"tight\")\n",
    "plt.show()"
   ]
  }
 ],
 "metadata": {
  "kernelspec": {
   "display_name": "brenv",
   "language": "python",
   "name": "python3"
  },
  "language_info": {
   "codemirror_mode": {
    "name": "ipython",
    "version": 3
   },
   "file_extension": ".py",
   "mimetype": "text/x-python",
   "name": "python",
   "nbconvert_exporter": "python",
   "pygments_lexer": "ipython3",
   "version": "3.8.0"
  }
 },
 "nbformat": 4,
 "nbformat_minor": 2
}
